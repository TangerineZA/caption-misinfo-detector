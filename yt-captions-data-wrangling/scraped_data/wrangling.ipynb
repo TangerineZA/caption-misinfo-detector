{
 "cells": [
  {
   "cell_type": "code",
   "execution_count": null,
   "metadata": {},
   "outputs": [],
   "source": [
    "import tensorflow as tf\n",
    "import tensorflow_hub as hub\n",
    "import tensorflow_text as text\n",
    "import numpy as np\n",
    "import os\n",
    "import pandas as pd\n",
    "# function for getting full transcript from vtt\n",
    "import webvtt\n"
   ]
  },
  {
   "cell_type": "code",
   "execution_count": null,
   "metadata": {},
   "outputs": [],
   "source": [
    "\n",
    "def get_transcript(filename) -> str:\n",
    "    vtt = webvtt.read(filename)\n",
    "    transcript = \"\"\n",
    "\n",
    "    lines = []\n",
    "    for line in vtt:\n",
    "        lines.extend(line.text.strip().splitlines())\n",
    "\n",
    "    previous = None\n",
    "    for line in lines:\n",
    "        if line == previous:\n",
    "           continue\n",
    "        transcript += \" \" + line\n",
    "        previous = line\n",
    "\n",
    "    # print(transcript)\n",
    "    return(transcript)\n"
   ]
  },
  {
   "cell_type": "code",
   "execution_count": null,
   "metadata": {},
   "outputs": [],
   "source": [
    "\n",
    "import os\n",
    "count = 0\n",
    "for path in os.scandir('subs'):\n",
    "    count += 1\n",
    "    print(path.name)\n",
    "\n",
    "print(count)\n",
    "df_source = pd.read_csv('youtube_audit_dataset_unique.csv')\n",
    "num_debunk = 0\n",
    "num_neutral = 0\n",
    "num_promote = 0\n",
    "file_list = os.scandir('subs')\n",
    "\n",
    "filename_list = []\n",
    "for file in file_list:\n",
    "    filename_length = len(file.name)\n",
    "    # temp = str(file.name[1:(filename_length-7)])\n",
    "    temp = file.name.split('.')[0]\n",
    "    filename_list.append(temp)\n",
    "    # print(temp)\n"
   ]
  },
  {
   "cell_type": "code",
   "execution_count": null,
   "metadata": {},
   "outputs": [],
   "source": [
    "\n",
    "for idx in df_source.index:\n",
    "    # print(str(df_source['vid_url'][idx])[-11:])\n",
    "    if str(df_source['vid_url'][idx])[-11:] in filename_list:\n",
    "        stance = df_source['normalized_annotation'][idx]\n",
    "        if stance == 0:\n",
    "            num_neutral += 1\n",
    "        elif stance == 1:\n",
    "            num_debunk += 1\n",
    "        elif stance == -1:\n",
    "            num_promote += 1\n"
   ]
  },
  {
   "cell_type": "code",
   "execution_count": null,
   "metadata": {},
   "outputs": [],
   "source": [
    "\n",
    "print(\"Neutral: \" + str(num_neutral) + \"\\nPromote: \" + str(num_promote) + \"\\nDebunk: \" + str(num_debunk))\n",
    "finished_df = pd.DataFrame(columns=['annotation', 'stance'])\n"
   ]
  },
  {
   "cell_type": "code",
   "execution_count": null,
   "metadata": {},
   "outputs": [],
   "source": [
    "for idx in df_source.index:\n",
    "    if str(df_source['vid_url'][idx])[-11:] in filename_list:\n",
    "        stance = df_source['normalized_annotation'][idx]\n",
    "\n",
    "        if stance not in ['-1','0','1']:\n",
    "            print('ISSUE ' + str(stance))\n",
    "            break\n",
    "\n",
    "        vtt_filename = str(df_source['vid_url'][idx])[-11:] + \".vtt\"\n",
    "        vtt_filename = 'subs/' + vtt_filename\n",
    "        try:\n",
    "            annotation = get_transcript(vtt_filename)\n",
    "        except Exception as e:\n",
    "            print(str(e))\n",
    "        finished_df.loc[len(finished_df.index)] = [annotation, stance]\n",
    "\n",
    "finished_df\n"
   ]
  },
  {
   "cell_type": "code",
   "execution_count": null,
   "metadata": {},
   "outputs": [],
   "source": [
    "finished_df.iloc[5]\n"
   ]
  },
  {
   "cell_type": "code",
   "execution_count": null,
   "metadata": {},
   "outputs": [],
   "source": [
    "finished_df.to_csv(\"finished_df_new.csv\")"
   ]
  }
 ],
 "metadata": {
  "kernelspec": {
   "display_name": "research-env",
   "language": "python",
   "name": "python3"
  },
  "language_info": {
   "name": "python",
   "version": "3.10.12"
  },
  "orig_nbformat": 4
 },
 "nbformat": 4,
 "nbformat_minor": 2
}
