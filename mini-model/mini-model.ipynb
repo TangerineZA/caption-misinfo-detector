{
 "cells": [
  {
   "cell_type": "code",
   "execution_count": 1,
   "metadata": {},
   "outputs": [],
   "source": [
    "# imports\n",
    "# from transformers import pipeline\n",
    "from helpers import Video_loader, Image_loader, Captioner, Audio_transcriber"
   ]
  },
  {
   "cell_type": "code",
   "execution_count": 6,
   "metadata": {},
   "outputs": [],
   "source": [
    "VIDEOS_DIRECTORY = \"videos\"\n",
    "FRAME_FREQUENCY = 300"
   ]
  },
  {
   "cell_type": "code",
   "execution_count": 9,
   "metadata": {},
   "outputs": [
    {
     "name": "stdout",
     "output_type": "stream",
     "text": [
      "Init video loader\n",
      "Make frames\n",
      "Storing in videos\\The Best Lawyer.mp4_images\n",
      "Start image loading\n",
      "Init image loader\n",
      "Init captioner\n"
     ]
    },
    {
     "name": "stderr",
     "output_type": "stream",
     "text": [
      "All model checkpoint layers were used when initializing TFBlipForConditionalGeneration.\n",
      "\n",
      "All the layers of TFBlipForConditionalGeneration were initialized from the model checkpoint at Salesforce/blip-image-captioning-base.\n",
      "If your task is similar to the task the model of the checkpoint was trained on, you can already use TFBlipForConditionalGeneration for predictions without further training.\n"
     ]
    },
    {
     "name": "stdout",
     "output_type": "stream",
     "text": [
      "Start image get captions\n"
     ]
    },
    {
     "name": "stderr",
     "output_type": "stream",
     "text": [
      "c:\\Users\\david\\anaconda3\\envs\\research-env\\lib\\site-packages\\transformers\\generation\\tf_utils.py:854: UserWarning: Using `max_length`'s default (20) to control the generation length. This behaviour is deprecated and will be removed from the config in v5 of Transformers -- we recommend using `max_new_tokens` to control the maximum length of the generation.\n",
      "  warnings.warn(\n"
     ]
    },
    {
     "name": "stdout",
     "output_type": "stream",
     "text": [
      "WARNING:tensorflow:5 out of the last 5 calls to <function TFBlipTextModel.get_extended_attention_mask at 0x000002729317EF80> triggered tf.function retracing. Tracing is expensive and the excessive number of tracings could be due to (1) creating @tf.function repeatedly in a loop, (2) passing tensors with different shapes, (3) passing Python objects instead of tensors. For (1), please define your @tf.function outside of the loop. For (2), @tf.function has reduce_retracing=True option that can avoid unnecessary retracing. For (3), please refer to https://www.tensorflow.org/guide/function#controlling_retracing and https://www.tensorflow.org/api_docs/python/tf/function for  more details.\n",
      "WARNING:tensorflow:6 out of the last 6 calls to <function TFBlipTextModel.get_extended_attention_mask at 0x000002729317EF80> triggered tf.function retracing. Tracing is expensive and the excessive number of tracings could be due to (1) creating @tf.function repeatedly in a loop, (2) passing tensors with different shapes, (3) passing Python objects instead of tensors. For (1), please define your @tf.function outside of the loop. For (2), @tf.function has reduce_retracing=True option that can avoid unnecessary retracing. For (3), please refer to https://www.tensorflow.org/guide/function#controlling_retracing and https://www.tensorflow.org/api_docs/python/tf/function for  more details.\n",
      "------------------------------------------------------------------------------------------\n",
      " END OF HELPERS \n",
      "\n",
      "{'videos\\\\The Best Lawyer.mp4_images': [[{'generated_text': 'a man in a suit and tie'}], [{'generated_text': \"a man in an orange vest and hat with a sign that says,'say we can '\"}], [{'generated_text': 'a man standing next to a fence'}], [{'generated_text': 'a man in a suit and tie standing in front of a construction site'}], [{'generated_text': 'a man in a suit is being held by a police officer'}], [{'generated_text': 'a man in a hard hat'}]]}\n"
     ]
    }
   ],
   "source": [
    "# video captions section\n",
    "video_loader = Video_loader(VIDEOS_DIRECTORY, FRAME_FREQUENCY)\n",
    "\n",
    "captions_dict = video_loader.process()\n",
    "# need to tune this up but for now it's whatever - we have frame visual captions now\n",
    "\n",
    "print(\"------------------------------------------------------------------------------------------\\n END OF HELPERS \\n\")\n",
    "print(captions_dict)"
   ]
  },
  {
   "cell_type": "code",
   "execution_count": 3,
   "metadata": {},
   "outputs": [
    {
     "name": "stdout",
     "output_type": "stream",
     "text": [
      "Transcribing video folder: videos\n",
      "Filenames: \n",
      "[<DirEntry 'The Best Lawyer.mp4'>]\n",
      "Make folders and save audio\n",
      "Storing in videos\\The Best Lawyer.mp4_audio\n",
      "Transcribing video <DirEntry 'The Best Lawyer.mp4'>\n",
      "Audio split!\n",
      "videos\\The Best Lawyer.mp4_audio\\chunk1.wav : can you make a dress for me\n",
      "videos\\The Best Lawyer.mp4_audio\\chunk2.wav : in December we are\n",
      "videos\\The Best Lawyer.mp4_audio\\chunk3.wav : the helpline is on at mailbox please day 11:30\n",
      "videos\\The Best Lawyer.mp4_audio\\chunk4.wav : Ghana cedi\n",
      "videos\\The Best Lawyer.mp4_audio\\chunk5.wav : in Japanese\n",
      "videos\\The Best Lawyer.mp4_audio\\chunk6.wav : I don't know somebody muscle this is 11:30 royal Vista there 12 value of Esther\n",
      "videos\\The Best Lawyer.mp4_audio\\chunk7.wav : it's always been 1241 West 12:40\n",
      "videos\\The Best Lawyer.mp4_audio\\chunk8.wav : nobody\n",
      "videos\\The Best Lawyer.mp4_audio\\chunk9.wav : my client says it's 12:40 got a flat map says we just write this out right now all due respect to whoever threw that now but your truck is been living in for 30 years I think he knows it or not\n",
      "videos\\The Best Lawyer.mp4_audio\\chunk10.wav : hahaha\n",
      "Returning whole text!can you make a dress for mein December we arethe helpline is on at mailbox please day 11:30Ghana cediin JapaneseI don't know somebody muscle this is 11:30 royal Vista there 12 value of Estherit's always been 1241 West 12:40nobodymy client says it's 12:40 got a flat map says we just write this out right now all due respect to whoever threw that now but your truck is been living in for 30 years I think he knows it or nothahaha\n"
     ]
    }
   ],
   "source": [
    "# audio captions section\n",
    "audio_transcriber = Audio_transcriber(VIDEOS_DIRECTORY)\n",
    "audio_captions_dict = audio_transcriber.transcribe_video_folder(VIDEOS_DIRECTORY)"
   ]
  },
  {
   "cell_type": "code",
   "execution_count": 10,
   "metadata": {},
   "outputs": [
    {
     "name": "stdout",
     "output_type": "stream",
     "text": [
      "---FRAME CAPTIONS---\n",
      "{'videos\\\\The Best Lawyer.mp4_images': [[{'generated_text': 'a man in a suit and tie'}], [{'generated_text': \"a man in an orange vest and hat with a sign that says,'say we can '\"}], [{'generated_text': 'a man standing next to a fence'}], [{'generated_text': 'a man in a suit and tie standing in front of a construction site'}], [{'generated_text': 'a man in a suit is being held by a police officer'}], [{'generated_text': 'a man in a hard hat'}]]}\n",
      "\n",
      "\n",
      "---AUDIO CAPTIONS---\n",
      "None\n"
     ]
    }
   ],
   "source": [
    "# explore dicts\n",
    "print(\"---FRAME CAPTIONS---\")\n",
    "print(captions_dict)\n",
    "print(\"\\n\\n---AUDIO CAPTIONS---\")\n",
    "print(audio_captions_dict)"
   ]
  },
  {
   "cell_type": "code",
   "execution_count": 14,
   "metadata": {},
   "outputs": [
    {
     "name": "stdout",
     "output_type": "stream",
     "text": [
      "{'videos\\\\The Best Lawyer.mp4_images': \" a man in a suit and tie a man in an orange vest and hat with a sign that says,'say we can ' a man standing next to a fence a man in a suit and tie standing in front of a construction site a man in a suit is being held by a police officer a man in a hard hat\"}\n"
     ]
    }
   ],
   "source": [
    "# generate new frame caption dict with cleaned data\n",
    "video_captions_dict = {}\n",
    "for video_name in captions_dict.keys():\n",
    "    combined_text = \"\"\n",
    "    for top_level in captions_dict[video_name]:\n",
    "        inside_dict = top_level[0]\n",
    "        combined_text = combined_text + ' ' + inside_dict[\"generated_text\"]\n",
    "    video_captions_dict[video_name] = combined_text\n",
    "\n",
    "print(video_captions_dict)"
   ]
  },
  {
   "cell_type": "code",
   "execution_count": 6,
   "metadata": {},
   "outputs": [],
   "source": [
    "# fusion section\n",
    "# steps to achieve:\n",
    "# - combine string per video, do word embeddings with GloVe - theoretically, helper function here is complete!\n",
    "# - build fusion layer - must see how to integrate the embeddings now"
   ]
  },
  {
   "cell_type": "code",
   "execution_count": 7,
   "metadata": {},
   "outputs": [],
   "source": [
    "# model compilation\n",
    "# steps to achieve:\n",
    "# - implement transformer model to analyse all text\n",
    "# - decide on loss - binary cross-entropy most likely\n",
    "# - decide on optimiser\n",
    "# - compile model"
   ]
  },
  {
   "cell_type": "code",
   "execution_count": 8,
   "metadata": {},
   "outputs": [],
   "source": [
    "# training\n",
    "# steps to achieve:\n",
    "# - download all data\n",
    "# - run preprocessing on all of the videos"
   ]
  },
  {
   "cell_type": "code",
   "execution_count": 9,
   "metadata": {},
   "outputs": [],
   "source": [
    "# testing"
   ]
  }
 ],
 "metadata": {
  "kernelspec": {
   "display_name": "research-env",
   "language": "python",
   "name": "python3"
  },
  "language_info": {
   "codemirror_mode": {
    "name": "ipython",
    "version": 3
   },
   "file_extension": ".py",
   "mimetype": "text/x-python",
   "name": "python",
   "nbconvert_exporter": "python",
   "pygments_lexer": "ipython3",
   "version": "3.10.12"
  },
  "orig_nbformat": 4
 },
 "nbformat": 4,
 "nbformat_minor": 2
}
