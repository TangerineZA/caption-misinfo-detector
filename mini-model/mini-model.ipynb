{
 "cells": [
  {
   "cell_type": "code",
   "execution_count": 1,
   "metadata": {},
   "outputs": [],
   "source": [
    "# imports\n",
    "# from transformers import pipeline\n",
    "from helpers import Video_loader, Image_loader, Captioner, Audio_transcriber, Fusion_helper\n",
    "import tensorflow as tf"
   ]
  },
  {
   "cell_type": "code",
   "execution_count": 2,
   "metadata": {},
   "outputs": [],
   "source": [
    "VIDEOS_DIRECTORY = \"videos\"\n",
    "FRAME_FREQUENCY = 300"
   ]
  },
  {
   "cell_type": "code",
   "execution_count": 3,
   "metadata": {},
   "outputs": [
    {
     "name": "stdout",
     "output_type": "stream",
     "text": [
      "Init video loader\n",
      "Make frames\n",
      "Storing in videos\\Los Pollos Hermanos Employee Training_ Communication _ Better Call Saul.mp4_images\n",
      "Start image loading\n",
      "Init image loader\n",
      "Init captioner\n"
     ]
    },
    {
     "name": "stderr",
     "output_type": "stream",
     "text": [
      "All model checkpoint layers were used when initializing TFBlipForConditionalGeneration.\n",
      "\n",
      "All the layers of TFBlipForConditionalGeneration were initialized from the model checkpoint at Salesforce/blip-image-captioning-base.\n",
      "If your task is similar to the task the model of the checkpoint was trained on, you can already use TFBlipForConditionalGeneration for predictions without further training.\n"
     ]
    },
    {
     "name": "stdout",
     "output_type": "stream",
     "text": [
      "Start image get captions\n"
     ]
    },
    {
     "name": "stderr",
     "output_type": "stream",
     "text": [
      "c:\\Users\\david\\anaconda3\\envs\\research-env\\lib\\site-packages\\transformers\\generation\\tf_utils.py:854: UserWarning: Using `max_length`'s default (20) to control the generation length. This behaviour is deprecated and will be removed from the config in v5 of Transformers -- we recommend using `max_new_tokens` to control the maximum length of the generation.\n",
      "  warnings.warn(\n"
     ]
    },
    {
     "name": "stdout",
     "output_type": "stream",
     "text": [
      "WARNING:tensorflow:5 out of the last 5 calls to <function TFBlipTextModel.get_extended_attention_mask at 0x00000260FAA18B80> triggered tf.function retracing. Tracing is expensive and the excessive number of tracings could be due to (1) creating @tf.function repeatedly in a loop, (2) passing tensors with different shapes, (3) passing Python objects instead of tensors. For (1), please define your @tf.function outside of the loop. For (2), @tf.function has reduce_retracing=True option that can avoid unnecessary retracing. For (3), please refer to https://www.tensorflow.org/guide/function#controlling_retracing and https://www.tensorflow.org/api_docs/python/tf/function for  more details.\n",
      "WARNING:tensorflow:6 out of the last 6 calls to <function TFBlipTextModel.get_extended_attention_mask at 0x00000260FAA18B80> triggered tf.function retracing. Tracing is expensive and the excessive number of tracings could be due to (1) creating @tf.function repeatedly in a loop, (2) passing tensors with different shapes, (3) passing Python objects instead of tensors. For (1), please define your @tf.function outside of the loop. For (2), @tf.function has reduce_retracing=True option that can avoid unnecessary retracing. For (3), please refer to https://www.tensorflow.org/guide/function#controlling_retracing and https://www.tensorflow.org/api_docs/python/tf/function for  more details.\n",
      "------------------------------------------------------------------------------------------\n",
      " END OF HELPERS \n",
      "\n",
      "{'videos\\\\Los Pollos Hermanos Employee Training_ Communication _ Better Call Saul.mp4_images': [[{'generated_text': \"the logo for los's employee training\"}], [{'generated_text': 'a cartoon depicting a man cleaning a room'}], [{'generated_text': 'a man in a yellow shirt and tie is pointing at a computer screen'}], [{'generated_text': 'a man and woman are in a room with a tv screen'}], [{'generated_text': 'a man with glasses and a thought bubble above him'}], [{'generated_text': 'a man in a tie and shirt standing in a restaurant'}], [{'generated_text': 'a man with a mustache and a blue sky in the background'}], [{'generated_text': 'a man in a tie standing in front of a sign'}], [{'generated_text': 'a man with a beard and a blue sky in the background'}], [{'generated_text': 'a man in a tie and glasses is making a funny face'}], [{'generated_text': 'a man in a tie and shirt standing in a room'}]]}\n"
     ]
    }
   ],
   "source": [
    "# video captions section\n",
    "video_loader = Video_loader(VIDEOS_DIRECTORY, FRAME_FREQUENCY)\n",
    "\n",
    "captions_dict = video_loader.process()\n",
    "# need to tune this up but for now it's whatever - we have frame visual captions now\n",
    "\n",
    "print(\"------------------------------------------------------------------------------------------\\n END OF HELPERS \\n\")\n",
    "print(captions_dict)"
   ]
  },
  {
   "cell_type": "code",
   "execution_count": 4,
   "metadata": {},
   "outputs": [
    {
     "name": "stdout",
     "output_type": "stream",
     "text": [
      "Transcribing video folder: videos\n",
      "Filenames: \n",
      "[<DirEntry 'Los Pollos Hermanos Employee Training_ Communication _ Better Call Saul.mp4'>]\n",
      "Make folders and save audio\n",
      "Storing in videos\\Los Pollos Hermanos Employee Training_ Communication _ Better Call Saul.mp4_audio\n",
      "Transcribing video <DirEntry 'Los Pollos Hermanos Employee Training_ Communication _ Better Call Saul.mp4'>\n",
      "Audio split!\n",
      "videos\\Los Pollos Hermanos Employee Training_ Communication _ Better Call Saul.mp4_audio\\chunk1.wav : hello and welcome to the Los Pollos Hermanos family my name is Gustavo but you can call me I am thrilled that you'll be joining our team each and every day we serve our customers exceptional we take pride everything that we do and after this 10-week online seminar I am confident that you would write it I like to think I see things and people to begin I'd like to talk about the cornerstone of the Los Pollos Hermanos brand communication as an employee have lost boy from are you set the tone for the entire dining experience be mindful of what your word and behaviour communicate to Oregon\n",
      "videos\\Los Pollos Hermanos Employee Training_ Communication _ Better Call Saul.mp4_audio\\chunk2.wav : always be aware of Your Mind remember to stand up straight your customers and your back will thank you for it put effort into your appearance all employees are required to dress appropriately keep your uniform clean and press if you want respect you must look respected\n",
      "videos\\Los Pollos Hermanos Employee Training_ Communication _ Better Call Saul.mp4_audio\\chunk3.wav : speak in complete sentences we never use one word greetings like hey yeah always make eye contact and finally what do you do with the class tomorrow night remain composed\n",
      "videos\\Los Pollos Hermanos Employee Training_ Communication _ Better Call Saul.mp4_audio\\chunk4.wav : inside you can be thinking about your home or your friends or your side business but no one should ever know because at Los Pollos Romano someone\n",
      "videos\\Los Pollos Hermanos Employee Training_ Communication _ Better Call Saul.mp4_audio\\chunk5.wav : he's always watching\n",
      "videos\\Los Pollos Hermanos Employee Training_ Communication _ Better Call Saul.mp4_audio\\chunk6.wav : don't forget to smile that's all for today see you next\n",
      "videos\\Los Pollos Hermanos Employee Training_ Communication _ Better Call Saul.mp4_audio\\chunk7.wav : will be discussing\n",
      "Error: \n",
      "Returning whole text! hello and welcome to the Los Pollos Hermanos family my name is Gustavo but you can call me I am thrilled that you'll be joining our team each and every day we serve our customers exceptional we take pride everything that we do and after this 10-week online seminar I am confident that you would write it I like to think I see things and people to begin I'd like to talk about the cornerstone of the Los Pollos Hermanos brand communication as an employee have lost boy from are you set the tone for the entire dining experience be mindful of what your word and behaviour communicate to Oregon always be aware of Your Mind remember to stand up straight your customers and your back will thank you for it put effort into your appearance all employees are required to dress appropriately keep your uniform clean and press if you want respect you must look respected speak in complete sentences we never use one word greetings like hey yeah always make eye contact and finally what do you do with the class tomorrow night remain composed inside you can be thinking about your home or your friends or your side business but no one should ever know because at Los Pollos Romano someone he's always watching don't forget to smile that's all for today see you next will be discussing\n"
     ]
    }
   ],
   "source": [
    "# audio captions section\n",
    "audio_transcriber = Audio_transcriber(VIDEOS_DIRECTORY)\n",
    "audio_captions_dict = audio_transcriber.transcribe_video_folder(VIDEOS_DIRECTORY)"
   ]
  },
  {
   "cell_type": "code",
   "execution_count": 5,
   "metadata": {},
   "outputs": [
    {
     "name": "stdout",
     "output_type": "stream",
     "text": [
      "---FRAME CAPTIONS---\n",
      "{'videos\\\\Los Pollos Hermanos Employee Training_ Communication _ Better Call Saul.mp4_images': [[{'generated_text': \"the logo for los's employee training\"}], [{'generated_text': 'a cartoon depicting a man cleaning a room'}], [{'generated_text': 'a man in a yellow shirt and tie is pointing at a computer screen'}], [{'generated_text': 'a man and woman are in a room with a tv screen'}], [{'generated_text': 'a man with glasses and a thought bubble above him'}], [{'generated_text': 'a man in a tie and shirt standing in a restaurant'}], [{'generated_text': 'a man with a mustache and a blue sky in the background'}], [{'generated_text': 'a man in a tie standing in front of a sign'}], [{'generated_text': 'a man with a beard and a blue sky in the background'}], [{'generated_text': 'a man in a tie and glasses is making a funny face'}], [{'generated_text': 'a man in a tie and shirt standing in a room'}]]}\n",
      "\n",
      "\n",
      "---AUDIO CAPTIONS---\n",
      "{<DirEntry 'Los Pollos Hermanos Employee Training_ Communication _ Better Call Saul.mp4'>: \" hello and welcome to the Los Pollos Hermanos family my name is Gustavo but you can call me I am thrilled that you'll be joining our team each and every day we serve our customers exceptional we take pride everything that we do and after this 10-week online seminar I am confident that you would write it I like to think I see things and people to begin I'd like to talk about the cornerstone of the Los Pollos Hermanos brand communication as an employee have lost boy from are you set the tone for the entire dining experience be mindful of what your word and behaviour communicate to Oregon always be aware of Your Mind remember to stand up straight your customers and your back will thank you for it put effort into your appearance all employees are required to dress appropriately keep your uniform clean and press if you want respect you must look respected speak in complete sentences we never use one word greetings like hey yeah always make eye contact and finally what do you do with the class tomorrow night remain composed inside you can be thinking about your home or your friends or your side business but no one should ever know because at Los Pollos Romano someone he's always watching don't forget to smile that's all for today see you next will be discussing\"}\n"
     ]
    }
   ],
   "source": [
    "# explore dicts\n",
    "print(\"---FRAME CAPTIONS---\")\n",
    "print(captions_dict)\n",
    "print(\"\\n\\n---AUDIO CAPTIONS---\")\n",
    "print(audio_captions_dict)"
   ]
  },
  {
   "cell_type": "code",
   "execution_count": 6,
   "metadata": {},
   "outputs": [
    {
     "name": "stdout",
     "output_type": "stream",
     "text": [
      "{'videos\\\\Los Pollos Hermanos Employee Training_ Communication _ Better Call Saul.mp4_images': \" the logo for los's employee training a cartoon depicting a man cleaning a room a man in a yellow shirt and tie is pointing at a computer screen a man and woman are in a room with a tv screen a man with glasses and a thought bubble above him a man in a tie and shirt standing in a restaurant a man with a mustache and a blue sky in the background a man in a tie standing in front of a sign a man with a beard and a blue sky in the background a man in a tie and glasses is making a funny face a man in a tie and shirt standing in a room\"}\n"
     ]
    }
   ],
   "source": [
    "# generate new frame caption dict with cleaned data\n",
    "video_captions_dict = {}\n",
    "for video_name in captions_dict.keys():\n",
    "    combined_text = \"\"\n",
    "    for top_level in captions_dict[video_name]:\n",
    "        inside_dict = top_level[0]\n",
    "        combined_text = combined_text + ' ' + inside_dict[\"generated_text\"]\n",
    "    video_captions_dict[video_name] = combined_text\n",
    "\n",
    "print(video_captions_dict)"
   ]
  },
  {
   "cell_type": "code",
   "execution_count": 7,
   "metadata": {},
   "outputs": [
    {
     "name": "stdout",
     "output_type": "stream",
     "text": [
      "Getting full vocabulary\n",
      "Building embedding layer from wordlist\n",
      "Getting embeddings from wordlist\n",
      "Building embedding layer\n",
      "Building vectorise layer\n"
     ]
    }
   ],
   "source": [
    "# fusion section\n",
    "# steps to achieve:\n",
    "# - combine string per video, do word embeddings with GloVe - theoretically, helper function here is complete!\n",
    "# - build fusion layer - must see how to integrate the embeddings now\n",
    "fusion_helper = Fusion_helper()\n",
    "all_dicts = [video_captions_dict, audio_captions_dict]\n",
    "final_vocab = fusion_helper.get_full_vocabulary(all_dicts)\n",
    "embedding_layer = fusion_helper.build_embedding_layer_from_wordlist(final_vocab)\n",
    "# TODO examine whether vectorisation and embedding layers are crosscompatible\n",
    "vectorise_layer = fusion_helper.build_vectorise_layer_from_wordlist(final_vocab)\n",
    "# yay - embedding layer made! going to also need a text vectorisation layer though that turns strings into vocab indices"
   ]
  },
  {
   "cell_type": "code",
   "execution_count": 8,
   "metadata": {},
   "outputs": [],
   "source": [
    "# model itself:\n",
    "model = tf.keras.Sequential([\n",
    "    vectorise_layer,\n",
    "    embedding_layer,\n",
    "    tf.keras.layers.Flatten(),\n",
    "    tf.keras.layers.LSTM(units=1),\n",
    "    tf.keras.layers.Dense(1)\n",
    "])"
   ]
  },
  {
   "cell_type": "code",
   "execution_count": 9,
   "metadata": {},
   "outputs": [],
   "source": [
    "# model compilation\n",
    "# steps to achieve:\n",
    "# - implement transformer model to analyse all text\n",
    "# - decide on loss - binary cross-entropy most likely\n",
    "# - decide on optimiser\n",
    "# - compile model\n",
    "model.compile(\n",
    "    optimizer=\"adam\", loss=\"binary_crossentropy\", metrics=['accuracy']\n",
    ")"
   ]
  },
  {
   "cell_type": "code",
   "execution_count": 10,
   "metadata": {},
   "outputs": [],
   "source": [
    "# training\n",
    "# steps to achieve:\n",
    "# - download all data\n",
    "# - run preprocessing on all of the videos\n"
   ]
  },
  {
   "cell_type": "code",
   "execution_count": 11,
   "metadata": {},
   "outputs": [],
   "source": [
    "# testing"
   ]
  }
 ],
 "metadata": {
  "kernelspec": {
   "display_name": "research-env",
   "language": "python",
   "name": "python3"
  },
  "language_info": {
   "codemirror_mode": {
    "name": "ipython",
    "version": 3
   },
   "file_extension": ".py",
   "mimetype": "text/x-python",
   "name": "python",
   "nbconvert_exporter": "python",
   "pygments_lexer": "ipython3",
   "version": "3.10.12"
  },
  "orig_nbformat": 4
 },
 "nbformat": 4,
 "nbformat_minor": 2
}
