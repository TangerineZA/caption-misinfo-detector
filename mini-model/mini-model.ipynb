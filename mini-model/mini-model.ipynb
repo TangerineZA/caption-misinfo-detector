{
 "cells": [
  {
   "cell_type": "code",
   "execution_count": 1,
   "metadata": {},
   "outputs": [],
   "source": [
    "# imports\n",
    "# from transformers import pipeline\n",
    "from helpers import Video_loader, Image_loader, Captioner"
   ]
  },
  {
   "cell_type": "code",
   "execution_count": 2,
   "metadata": {},
   "outputs": [],
   "source": [
    "VIDEOS_DIRECTORY = \"videos\"\n",
    "FRAME_FREQUENCY = 6000"
   ]
  },
  {
   "cell_type": "code",
   "execution_count": 3,
   "metadata": {},
   "outputs": [
    {
     "name": "stdout",
     "output_type": "stream",
     "text": [
      "Init video loader\n",
      "Make frames\n",
      "Storing in videos\\Why the new MacBook Air is a BIG deal.mp4_images\n",
      "Start image loading\n",
      "Captioning subfolder: videos\\Why the new MacBook Air is a BIG deal.mp4_images\n",
      "Init image loader\n",
      "Init captioner\n"
     ]
    },
    {
     "name": "stderr",
     "output_type": "stream",
     "text": [
      "All model checkpoint layers were used when initializing TFBlipForConditionalGeneration.\n",
      "\n",
      "All the layers of TFBlipForConditionalGeneration were initialized from the model checkpoint at Salesforce/blip-image-captioning-base.\n",
      "If your task is similar to the task the model of the checkpoint was trained on, you can already use TFBlipForConditionalGeneration for predictions without further training.\n"
     ]
    },
    {
     "name": "stdout",
     "output_type": "stream",
     "text": [
      "Start image get captions\n",
      "Get caption\n"
     ]
    },
    {
     "name": "stderr",
     "output_type": "stream",
     "text": [
      "c:\\Users\\david\\anaconda3\\envs\\research-env\\lib\\site-packages\\transformers\\generation\\tf_utils.py:854: UserWarning: Using `max_length`'s default (20) to control the generation length. This behaviour is deprecated and will be removed from the config in v5 of Transformers -- we recommend using `max_new_tokens` to control the maximum length of the generation.\n",
      "  warnings.warn(\n"
     ]
    },
    {
     "name": "stdout",
     "output_type": "stream",
     "text": [
      "WARNING:tensorflow:5 out of the last 5 calls to <function TFBlipTextModel.get_extended_attention_mask at 0x000002220808E440> triggered tf.function retracing. Tracing is expensive and the excessive number of tracings could be due to (1) creating @tf.function repeatedly in a loop, (2) passing tensors with different shapes, (3) passing Python objects instead of tensors. For (1), please define your @tf.function outside of the loop. For (2), @tf.function has reduce_retracing=True option that can avoid unnecessary retracing. For (3), please refer to https://www.tensorflow.org/guide/function#controlling_retracing and https://www.tensorflow.org/api_docs/python/tf/function for  more details.\n",
      "WARNING:tensorflow:6 out of the last 6 calls to <function TFBlipTextModel.get_extended_attention_mask at 0x000002220808E440> triggered tf.function retracing. Tracing is expensive and the excessive number of tracings could be due to (1) creating @tf.function repeatedly in a loop, (2) passing tensors with different shapes, (3) passing Python objects instead of tensors. For (1), please define your @tf.function outside of the loop. For (2), @tf.function has reduce_retracing=True option that can avoid unnecessary retracing. For (3), please refer to https://www.tensorflow.org/guide/function#controlling_retracing and https://www.tensorflow.org/api_docs/python/tf/function for  more details.\n",
      "[{'generated_text': 'a man with glasses and a beard leaning on a yellow bench'}]\n",
      "Get caption\n",
      "[{'generated_text': 'a man sitting at a table with a laptop'}]\n",
      "Get caption\n",
      "[{'generated_text': 'a bunch of different screens and screens'}]\n",
      "[[{'generated_text': 'a man with glasses and a beard leaning on a yellow bench'}], [{'generated_text': 'a man sitting at a table with a laptop'}], [{'generated_text': 'a bunch of different screens and screens'}]]\n"
     ]
    }
   ],
   "source": [
    "# video captions section\n",
    "video_loader = Video_loader(VIDEOS_DIRECTORY, FRAME_FREQUENCY)\n",
    "\n",
    "captions_dict = video_loader.process()\n",
    "# need to tune this up but for now it's whatever - we have frame visual captions now"
   ]
  },
  {
   "cell_type": "code",
   "execution_count": null,
   "metadata": {},
   "outputs": [],
   "source": [
    "# audio captions section\n"
   ]
  }
 ],
 "metadata": {
  "kernelspec": {
   "display_name": "research-env",
   "language": "python",
   "name": "python3"
  },
  "language_info": {
   "codemirror_mode": {
    "name": "ipython",
    "version": 3
   },
   "file_extension": ".py",
   "mimetype": "text/x-python",
   "name": "python",
   "nbconvert_exporter": "python",
   "pygments_lexer": "ipython3",
   "version": "3.10.12"
  },
  "orig_nbformat": 4
 },
 "nbformat": 4,
 "nbformat_minor": 2
}
