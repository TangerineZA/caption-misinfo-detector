{
 "cells": [
  {
   "cell_type": "code",
   "execution_count": 1,
   "metadata": {},
   "outputs": [],
   "source": [
    "# imports\n",
    "# from transformers import pipeline\n",
    "from helpers import Video_loader, Image_loader, Captioner, Audio_transcriber"
   ]
  },
  {
   "cell_type": "code",
   "execution_count": 2,
   "metadata": {},
   "outputs": [],
   "source": [
    "VIDEOS_DIRECTORY = \"videos\"\n",
    "FRAME_FREQUENCY = 6000"
   ]
  },
  {
   "cell_type": "code",
   "execution_count": 3,
   "metadata": {},
   "outputs": [
    {
     "name": "stdout",
     "output_type": "stream",
     "text": [
      "Init video loader\n",
      "Make frames\n",
      "Storing in videos\\Why the new MacBook Air is a BIG deal.mp4_images\n",
      "Start image loading\n",
      "Init image loader\n",
      "Init captioner\n"
     ]
    },
    {
     "name": "stderr",
     "output_type": "stream",
     "text": [
      "All model checkpoint layers were used when initializing TFBlipForConditionalGeneration.\n",
      "\n",
      "All the layers of TFBlipForConditionalGeneration were initialized from the model checkpoint at Salesforce/blip-image-captioning-base.\n",
      "If your task is similar to the task the model of the checkpoint was trained on, you can already use TFBlipForConditionalGeneration for predictions without further training.\n"
     ]
    },
    {
     "name": "stdout",
     "output_type": "stream",
     "text": [
      "Start image get captions\n"
     ]
    },
    {
     "name": "stderr",
     "output_type": "stream",
     "text": [
      "c:\\Users\\david\\anaconda3\\envs\\research-env\\lib\\site-packages\\transformers\\generation\\tf_utils.py:854: UserWarning: Using `max_length`'s default (20) to control the generation length. This behaviour is deprecated and will be removed from the config in v5 of Transformers -- we recommend using `max_new_tokens` to control the maximum length of the generation.\n",
      "  warnings.warn(\n"
     ]
    },
    {
     "name": "stdout",
     "output_type": "stream",
     "text": [
      "WARNING:tensorflow:5 out of the last 5 calls to <function TFBlipTextModel.get_extended_attention_mask at 0x000002328BA66440> triggered tf.function retracing. Tracing is expensive and the excessive number of tracings could be due to (1) creating @tf.function repeatedly in a loop, (2) passing tensors with different shapes, (3) passing Python objects instead of tensors. For (1), please define your @tf.function outside of the loop. For (2), @tf.function has reduce_retracing=True option that can avoid unnecessary retracing. For (3), please refer to https://www.tensorflow.org/guide/function#controlling_retracing and https://www.tensorflow.org/api_docs/python/tf/function for  more details.\n",
      "WARNING:tensorflow:6 out of the last 6 calls to <function TFBlipTextModel.get_extended_attention_mask at 0x000002328BA66440> triggered tf.function retracing. Tracing is expensive and the excessive number of tracings could be due to (1) creating @tf.function repeatedly in a loop, (2) passing tensors with different shapes, (3) passing Python objects instead of tensors. For (1), please define your @tf.function outside of the loop. For (2), @tf.function has reduce_retracing=True option that can avoid unnecessary retracing. For (3), please refer to https://www.tensorflow.org/guide/function#controlling_retracing and https://www.tensorflow.org/api_docs/python/tf/function for  more details.\n",
      "------------------------------------------------------------------------------------------\n",
      " END OF HELPERS \n",
      "\n",
      "{'videos\\\\Why the new MacBook Air is a BIG deal.mp4_images': [[{'generated_text': 'a man with glasses and a beard leaning on a yellow bench'}], [{'generated_text': 'a man sitting at a table with a laptop'}], [{'generated_text': 'a bunch of different screens and screens'}]]}\n"
     ]
    }
   ],
   "source": [
    "# video captions section\n",
    "video_loader = Video_loader(VIDEOS_DIRECTORY, FRAME_FREQUENCY)\n",
    "\n",
    "captions_dict = video_loader.process()\n",
    "# need to tune this up but for now it's whatever - we have frame visual captions now\n",
    "\n",
    "print(\"------------------------------------------------------------------------------------------\\n END OF HELPERS \\n\")\n",
    "print(captions_dict)"
   ]
  },
  {
   "cell_type": "code",
   "execution_count": 3,
   "metadata": {},
   "outputs": [
    {
     "name": "stdout",
     "output_type": "stream",
     "text": [
      "Transcribing video folder: videos\n",
      "Filenames: \n",
      "[<DirEntry 'FP3 Highlights _ 2023 Hungarian Grand Prix.mp4'>, <DirEntry 'Why the new MacBook Air is a BIG deal.mp4'>]\n",
      "Make folders and save audio\n",
      "Storing in videos\\FP3 Highlights _ 2023 Hungarian Grand Prix.mp4_audio\n",
      "Transcribing video <DirEntry 'FP3 Highlights _ 2023 Hungarian Grand Prix.mp4'>\n",
      "Audio split!\n",
      "videos\\FP3 Highlights _ 2023 Hungarian Grand Prix.mp4_audio\\chunk1.wav : Final practice in budapest have a seven-time world champion lewis hamilton top of the timing table for the fine last time that one minute 17811 after a disappointing friday practice the britain had reflected on his performance suggesting the w14 was an eight-time winner here house and seems to have used all that experience with a truck to extract the maximum the car this time out silver arrows teammate george russell had been a little left has the mystic coming into the final practice session in which he finish his dick some 3/10 back from the leader current drivers championship by the back to start on the second fastest getting out of shape but turned two at one point. \n",
      "videos\\FP3 Highlights _ 2023 Hungarian Grand Prix.mp4_audio\\chunk2.wav : Infinity struggle a little on his sock run celebration. \n",
      "videos\\FP3 Highlights _ 2023 Hungarian Grand Prix.mp4_audio\\chunk3.wav : Not that the usual slithering run in the dying minutes. \n",
      "videos\\FP3 Highlights _ 2023 Hungarian Grand Prix.mp4_audio\\chunk4.wav : This was the case with mclaren he would gain look strong lando norris swinging his tail to the final quarter on a very fast lap on the media for the first time the britain looking to consolidate his position as one of the podium contenders this weekend ferraris shall declare what why did turn for the madagascar top fp2 yesterday been quietly confident overnight and is pe7 finish keeps it in her teammate carlos 958 the only thing i drink a bit of an expected during his first exploratory lap. \n",
      "videos\\FP3 Highlights _ 2023 Hungarian Grand Prix.mp4_audio\\chunk5.wav : I just really want to buy coffee hamilton the stuff in my front row that would be come sunday then perris pizzeria had a polka by lawrence russell look like thanks fernando alonso tells reporter lance stroll by 11 then came joe alex album oscar ps3 kevin magnussen pierre gasly and logan sergeant that followed three drivers whose butt slaps came on the median in the shape of ricardo at savannah corn and you keep sonoda. \n",
      "Error: \n",
      "Storing in videos\\Why the new MacBook Air is a BIG deal.mp4_audio\n",
      "Transcribing video <DirEntry 'Why the new MacBook Air is a BIG deal.mp4'>\n",
      "Audio split!\n",
      "videos\\Why the new MacBook Air is a BIG deal.mp4_audio\\chunk1.wav : I like small phones small cars even small people in so when apple announced the largest-ever 15in macbook air at wwdc. \n",
      "videos\\Why the new MacBook Air is a BIG deal.mp4_audio\\chunk2.wav : I wasn't confident they would connect with me at first glance this looks like a longer and wider version of the m2 motorway launched last year and i mean it basically is so haha and yet i think this is a really big deal and i'm not talking about the size a right that's great. \n",
      "videos\\Why the new MacBook Air is a BIG deal.mp4_audio\\chunk3.wav : Apple has never made in large consumer notebook like this before you want to get more screen real estate on the girl you have to pay up for a 16 inch macbook pro $2500 it's almost double with this costs i guess the closest an alarm to this from apple's history bb14 and a book from. \n",
      "videos\\Why the new MacBook Air is a BIG deal.mp4_audio\\chunk4.wav : 2010 you didn't really get much from that bigger screen because it had the exact same resolution as the smaller 12-inch ibook so everything on screen just appeared bigger there wasn't any room to run this macbook however has a higher resolution in there for a much more real estate. \n",
      "videos\\Why the new MacBook Air is a BIG deal.mp4_audio\\chunk5.wav : So we can fit more documents web pages premier trucks and more of the photos or anything on the screen at a time. \n",
      "videos\\Why the new MacBook Air is a BIG deal.mp4_audio\\chunk6.wav : If you're a big multitasker and your on-the-go this is great. \n",
      "videos\\Why the new MacBook Air is a BIG deal.mp4_audio\\chunk7.wav : I should know one thing though i'm like the macbook pros on the macbook airs display scaling is on by default. \n",
      "videos\\Why the new MacBook Air is a BIG deal.mp4_audio\\chunk8.wav : Put absolute clearest image. \n",
      "videos\\Why the new MacBook Air is a BIG deal.mp4_audio\\chunk9.wav : Use this setting. \n",
      "videos\\Why the new MacBook Air is a BIG deal.mp4_audio\\chunk10.wav : Many many years ago back in high school i used a 15 inch acer laptop and i remember after graduating making another one of my sons policies. \n",
      "videos\\Why the new MacBook Air is a BIG deal.mp4_audio\\chunk11.wav : No. \n",
      "videos\\Why the new MacBook Air is a BIG deal.mp4_audio\\chunk12.wav : Laptop bigger than 14 and ponderous back then this isn't it so i may need to re-calibrate my views this air is very thin and light at 3.30 is only half a pound heavier. \n",
      "videos\\Why the new MacBook Air is a BIG deal.mp4_audio\\chunk13.wav : The smaller air. \n",
      "videos\\Why the new MacBook Air is a BIG deal.mp4_audio\\chunk14.wav : But crucially is a full pound and a half later than a 16-inch mac. \n",
      "videos\\Why the new MacBook Air is a BIG deal.mp4_audio\\chunk15.wav : Well it's even later than the 14-inch morning but despite its size it's not monkey i'm actually surprised at how horrible it is mini backpacks and laptop bags are designing for laptops with the screen size so when i put my small macbooks in i'm always aware of them shifting about. \n",
      "videos\\Why the new MacBook Air is a BIG deal.mp4_audio\\chunk16.wav : B b much more nicely instead of spaces. \n",
      "videos\\Why the new MacBook Air is a BIG deal.mp4_audio\\chunk17.wav : It's just rate. \n",
      "videos\\Why the new MacBook Air is a BIG deal.mp4_audio\\chunk18.wav : The teenage model is a celebrity thicker than a smaller one that makes it sturdy when you hold up a laptop this big 4. \n",
      "videos\\Why the new MacBook Air is a BIG deal.mp4_audio\\chunk19.wav : One corner like this more forces being put on the opposite corner cheap plastic windows laptops flex in creek when i do this work i don't feel bad at all weirdly this way that extra size apple is not expect more battery life the claims for both models are still 18 hours of video playback but in my usage at the office i was able to stretch the battery over 12 1/2 hours of screen on time. \n",
      "videos\\Why the new MacBook Air is a BIG deal.mp4_audio\\chunk20.wav : Is not at at apple's claims but it is very good. \n",
      "videos\\Why the new MacBook Air is a BIG deal.mp4_audio\\chunk21.wav : If you do get this macbook air or won't take most advantage of all the screen and battery life. \n",
      "videos\\Why the new MacBook Air is a BIG deal.mp4_audio\\chunk22.wav : You good in high quality. \n",
      "videos\\Why the new MacBook Air is a BIG deal.mp4_audio\\chunk23.wav : Which engage with this video sponsor setup. \n",
      "videos\\Why the new MacBook Air is a BIG deal.mp4_audio\\chunk24.wav : Stop and mostly scrolling through the app store is terrible options and take advantage of set-ups carefully curated selection of more than 230 mac and ios apps. \n",
      "videos\\Why the new MacBook Air is a BIG deal.mp4_audio\\chunk25.wav : Put 999 a month you get access to all these apps premium features mean. \n",
      "videos\\Why the new MacBook Air is a BIG deal.mp4_audio\\chunk26.wav : No pesky microtransaction notifications or in up at. \n",
      "videos\\Why the new MacBook Air is a BIG deal.mp4_audio\\chunk27.wav : Try set up for free for 7 days using the link below. \n",
      "videos\\Why the new MacBook Air is a BIG deal.mp4_audio\\chunk28.wav : I want a bigger screen you get a bigger truck pad with very good palm rejection we also get more space for heat and sound last year i complain about the decrease in performance of the m2 macbook air because of its compromised cooling the use a heat shield and an air gap and it's news here too but because of the greater surface area the impact is left in my davinci export test the 15-inch model is much closer and performance to the fun cool touch bar into macbook pro than the smaller air i still believe something must we go along way for both be a performance over longer periods isn't hard enough to really push the calling of the pro model that it is enough to. \n"
     ]
    },
    {
     "ename": "KeyboardInterrupt",
     "evalue": "",
     "output_type": "error",
     "traceback": [
      "\u001b[1;31m---------------------------------------------------------------------------\u001b[0m",
      "\u001b[1;31mKeyboardInterrupt\u001b[0m                         Traceback (most recent call last)",
      "Cell \u001b[1;32mIn[3], line 3\u001b[0m\n\u001b[0;32m      1\u001b[0m \u001b[39m# audio captions section\u001b[39;00m\n\u001b[0;32m      2\u001b[0m audio_transcriber \u001b[39m=\u001b[39m Audio_transcriber(VIDEOS_DIRECTORY)\n\u001b[1;32m----> 3\u001b[0m \u001b[39mprint\u001b[39m(audio_transcriber\u001b[39m.\u001b[39;49mtranscribe_video_folder(VIDEOS_DIRECTORY))\n",
      "File \u001b[1;32mc:\\Users\\david\\Desktop\\tiktec\\mini-model\\helpers.py:133\u001b[0m, in \u001b[0;36mAudio_transcriber.transcribe_video_folder\u001b[1;34m(self, folder_name)\u001b[0m\n\u001b[0;32m    130\u001b[0m filepath_and_name \u001b[39m=\u001b[39m os\u001b[39m.\u001b[39mpath\u001b[39m.\u001b[39mjoin(audio_folder_path, \u001b[39m\"\u001b[39m\u001b[39maudio.wav\u001b[39m\u001b[39m\"\u001b[39m)\n\u001b[0;32m    131\u001b[0m audio\u001b[39m.\u001b[39mexport(filepath_and_name, \u001b[39mformat\u001b[39m\u001b[39m=\u001b[39m\u001b[39m\"\u001b[39m\u001b[39mwav\u001b[39m\u001b[39m\"\u001b[39m)\n\u001b[1;32m--> 133\u001b[0m text \u001b[39m=\u001b[39m \u001b[39mself\u001b[39;49m\u001b[39m.\u001b[39;49mtranscribe_using_cloud(filepath_and_name, audio_folder_path)\n\u001b[0;32m    134\u001b[0m audio_captions_dict[filename] \u001b[39m=\u001b[39m text\n",
      "File \u001b[1;32mc:\\Users\\david\\Desktop\\tiktec\\mini-model\\helpers.py:204\u001b[0m, in \u001b[0;36mAudio_transcriber.transcribe_using_cloud\u001b[1;34m(self, audio_file, output_folder)\u001b[0m\n\u001b[0;32m    201\u001b[0m \u001b[39m# try converting it to text\u001b[39;00m\n\u001b[0;32m    202\u001b[0m \u001b[39mtry\u001b[39;00m:\n\u001b[0;32m    203\u001b[0m     \u001b[39m# print(\"Doing recognition!\")\u001b[39;00m\n\u001b[1;32m--> 204\u001b[0m     text \u001b[39m=\u001b[39m r\u001b[39m.\u001b[39;49mrecognize_google(audio_listened)\n\u001b[0;32m    205\u001b[0m     \u001b[39m# print(text)\u001b[39;00m\n\u001b[0;32m    206\u001b[0m \u001b[39mexcept\u001b[39;00m sr\u001b[39m.\u001b[39mUnknownValueError \u001b[39mas\u001b[39;00m e:\n",
      "File \u001b[1;32mc:\\Users\\david\\anaconda3\\envs\\research-env\\lib\\site-packages\\speech_recognition\\__init__.py:708\u001b[0m, in \u001b[0;36mRecognizer.recognize_google\u001b[1;34m(self, audio_data, key, language, pfilter, show_all, with_confidence)\u001b[0m\n\u001b[0;32m    706\u001b[0m \u001b[39m# obtain audio transcription results\u001b[39;00m\n\u001b[0;32m    707\u001b[0m \u001b[39mtry\u001b[39;00m:\n\u001b[1;32m--> 708\u001b[0m     response \u001b[39m=\u001b[39m urlopen(request, timeout\u001b[39m=\u001b[39;49m\u001b[39mself\u001b[39;49m\u001b[39m.\u001b[39;49moperation_timeout)\n\u001b[0;32m    709\u001b[0m \u001b[39mexcept\u001b[39;00m HTTPError \u001b[39mas\u001b[39;00m e:\n\u001b[0;32m    710\u001b[0m     \u001b[39mraise\u001b[39;00m RequestError(\u001b[39m\"\u001b[39m\u001b[39mrecognition request failed: \u001b[39m\u001b[39m{}\u001b[39;00m\u001b[39m\"\u001b[39m\u001b[39m.\u001b[39mformat(e\u001b[39m.\u001b[39mreason))\n",
      "File \u001b[1;32mc:\\Users\\david\\anaconda3\\envs\\research-env\\lib\\urllib\\request.py:216\u001b[0m, in \u001b[0;36murlopen\u001b[1;34m(url, data, timeout, cafile, capath, cadefault, context)\u001b[0m\n\u001b[0;32m    214\u001b[0m \u001b[39melse\u001b[39;00m:\n\u001b[0;32m    215\u001b[0m     opener \u001b[39m=\u001b[39m _opener\n\u001b[1;32m--> 216\u001b[0m \u001b[39mreturn\u001b[39;00m opener\u001b[39m.\u001b[39;49mopen(url, data, timeout)\n",
      "File \u001b[1;32mc:\\Users\\david\\anaconda3\\envs\\research-env\\lib\\urllib\\request.py:519\u001b[0m, in \u001b[0;36mOpenerDirector.open\u001b[1;34m(self, fullurl, data, timeout)\u001b[0m\n\u001b[0;32m    516\u001b[0m     req \u001b[39m=\u001b[39m meth(req)\n\u001b[0;32m    518\u001b[0m sys\u001b[39m.\u001b[39maudit(\u001b[39m'\u001b[39m\u001b[39murllib.Request\u001b[39m\u001b[39m'\u001b[39m, req\u001b[39m.\u001b[39mfull_url, req\u001b[39m.\u001b[39mdata, req\u001b[39m.\u001b[39mheaders, req\u001b[39m.\u001b[39mget_method())\n\u001b[1;32m--> 519\u001b[0m response \u001b[39m=\u001b[39m \u001b[39mself\u001b[39;49m\u001b[39m.\u001b[39;49m_open(req, data)\n\u001b[0;32m    521\u001b[0m \u001b[39m# post-process response\u001b[39;00m\n\u001b[0;32m    522\u001b[0m meth_name \u001b[39m=\u001b[39m protocol\u001b[39m+\u001b[39m\u001b[39m\"\u001b[39m\u001b[39m_response\u001b[39m\u001b[39m\"\u001b[39m\n",
      "File \u001b[1;32mc:\\Users\\david\\anaconda3\\envs\\research-env\\lib\\urllib\\request.py:536\u001b[0m, in \u001b[0;36mOpenerDirector._open\u001b[1;34m(self, req, data)\u001b[0m\n\u001b[0;32m    533\u001b[0m     \u001b[39mreturn\u001b[39;00m result\n\u001b[0;32m    535\u001b[0m protocol \u001b[39m=\u001b[39m req\u001b[39m.\u001b[39mtype\n\u001b[1;32m--> 536\u001b[0m result \u001b[39m=\u001b[39m \u001b[39mself\u001b[39;49m\u001b[39m.\u001b[39;49m_call_chain(\u001b[39mself\u001b[39;49m\u001b[39m.\u001b[39;49mhandle_open, protocol, protocol \u001b[39m+\u001b[39;49m\n\u001b[0;32m    537\u001b[0m                           \u001b[39m'\u001b[39;49m\u001b[39m_open\u001b[39;49m\u001b[39m'\u001b[39;49m, req)\n\u001b[0;32m    538\u001b[0m \u001b[39mif\u001b[39;00m result:\n\u001b[0;32m    539\u001b[0m     \u001b[39mreturn\u001b[39;00m result\n",
      "File \u001b[1;32mc:\\Users\\david\\anaconda3\\envs\\research-env\\lib\\urllib\\request.py:496\u001b[0m, in \u001b[0;36mOpenerDirector._call_chain\u001b[1;34m(self, chain, kind, meth_name, *args)\u001b[0m\n\u001b[0;32m    494\u001b[0m \u001b[39mfor\u001b[39;00m handler \u001b[39min\u001b[39;00m handlers:\n\u001b[0;32m    495\u001b[0m     func \u001b[39m=\u001b[39m \u001b[39mgetattr\u001b[39m(handler, meth_name)\n\u001b[1;32m--> 496\u001b[0m     result \u001b[39m=\u001b[39m func(\u001b[39m*\u001b[39;49margs)\n\u001b[0;32m    497\u001b[0m     \u001b[39mif\u001b[39;00m result \u001b[39mis\u001b[39;00m \u001b[39mnot\u001b[39;00m \u001b[39mNone\u001b[39;00m:\n\u001b[0;32m    498\u001b[0m         \u001b[39mreturn\u001b[39;00m result\n",
      "File \u001b[1;32mc:\\Users\\david\\anaconda3\\envs\\research-env\\lib\\urllib\\request.py:1377\u001b[0m, in \u001b[0;36mHTTPHandler.http_open\u001b[1;34m(self, req)\u001b[0m\n\u001b[0;32m   1376\u001b[0m \u001b[39mdef\u001b[39;00m \u001b[39mhttp_open\u001b[39m(\u001b[39mself\u001b[39m, req):\n\u001b[1;32m-> 1377\u001b[0m     \u001b[39mreturn\u001b[39;00m \u001b[39mself\u001b[39;49m\u001b[39m.\u001b[39;49mdo_open(http\u001b[39m.\u001b[39;49mclient\u001b[39m.\u001b[39;49mHTTPConnection, req)\n",
      "File \u001b[1;32mc:\\Users\\david\\anaconda3\\envs\\research-env\\lib\\urllib\\request.py:1352\u001b[0m, in \u001b[0;36mAbstractHTTPHandler.do_open\u001b[1;34m(self, http_class, req, **http_conn_args)\u001b[0m\n\u001b[0;32m   1350\u001b[0m     \u001b[39mexcept\u001b[39;00m \u001b[39mOSError\u001b[39;00m \u001b[39mas\u001b[39;00m err: \u001b[39m# timeout error\u001b[39;00m\n\u001b[0;32m   1351\u001b[0m         \u001b[39mraise\u001b[39;00m URLError(err)\n\u001b[1;32m-> 1352\u001b[0m     r \u001b[39m=\u001b[39m h\u001b[39m.\u001b[39;49mgetresponse()\n\u001b[0;32m   1353\u001b[0m \u001b[39mexcept\u001b[39;00m:\n\u001b[0;32m   1354\u001b[0m     h\u001b[39m.\u001b[39mclose()\n",
      "File \u001b[1;32mc:\\Users\\david\\anaconda3\\envs\\research-env\\lib\\http\\client.py:1375\u001b[0m, in \u001b[0;36mHTTPConnection.getresponse\u001b[1;34m(self)\u001b[0m\n\u001b[0;32m   1373\u001b[0m \u001b[39mtry\u001b[39;00m:\n\u001b[0;32m   1374\u001b[0m     \u001b[39mtry\u001b[39;00m:\n\u001b[1;32m-> 1375\u001b[0m         response\u001b[39m.\u001b[39;49mbegin()\n\u001b[0;32m   1376\u001b[0m     \u001b[39mexcept\u001b[39;00m \u001b[39mConnectionError\u001b[39;00m:\n\u001b[0;32m   1377\u001b[0m         \u001b[39mself\u001b[39m\u001b[39m.\u001b[39mclose()\n",
      "File \u001b[1;32mc:\\Users\\david\\anaconda3\\envs\\research-env\\lib\\http\\client.py:318\u001b[0m, in \u001b[0;36mHTTPResponse.begin\u001b[1;34m(self)\u001b[0m\n\u001b[0;32m    316\u001b[0m \u001b[39m# read until we get a non-100 response\u001b[39;00m\n\u001b[0;32m    317\u001b[0m \u001b[39mwhile\u001b[39;00m \u001b[39mTrue\u001b[39;00m:\n\u001b[1;32m--> 318\u001b[0m     version, status, reason \u001b[39m=\u001b[39m \u001b[39mself\u001b[39;49m\u001b[39m.\u001b[39;49m_read_status()\n\u001b[0;32m    319\u001b[0m     \u001b[39mif\u001b[39;00m status \u001b[39m!=\u001b[39m CONTINUE:\n\u001b[0;32m    320\u001b[0m         \u001b[39mbreak\u001b[39;00m\n",
      "File \u001b[1;32mc:\\Users\\david\\anaconda3\\envs\\research-env\\lib\\http\\client.py:279\u001b[0m, in \u001b[0;36mHTTPResponse._read_status\u001b[1;34m(self)\u001b[0m\n\u001b[0;32m    278\u001b[0m \u001b[39mdef\u001b[39;00m \u001b[39m_read_status\u001b[39m(\u001b[39mself\u001b[39m):\n\u001b[1;32m--> 279\u001b[0m     line \u001b[39m=\u001b[39m \u001b[39mstr\u001b[39m(\u001b[39mself\u001b[39;49m\u001b[39m.\u001b[39;49mfp\u001b[39m.\u001b[39;49mreadline(_MAXLINE \u001b[39m+\u001b[39;49m \u001b[39m1\u001b[39;49m), \u001b[39m\"\u001b[39m\u001b[39miso-8859-1\u001b[39m\u001b[39m\"\u001b[39m)\n\u001b[0;32m    280\u001b[0m     \u001b[39mif\u001b[39;00m \u001b[39mlen\u001b[39m(line) \u001b[39m>\u001b[39m _MAXLINE:\n\u001b[0;32m    281\u001b[0m         \u001b[39mraise\u001b[39;00m LineTooLong(\u001b[39m\"\u001b[39m\u001b[39mstatus line\u001b[39m\u001b[39m\"\u001b[39m)\n",
      "File \u001b[1;32mc:\\Users\\david\\anaconda3\\envs\\research-env\\lib\\socket.py:705\u001b[0m, in \u001b[0;36mSocketIO.readinto\u001b[1;34m(self, b)\u001b[0m\n\u001b[0;32m    703\u001b[0m \u001b[39mwhile\u001b[39;00m \u001b[39mTrue\u001b[39;00m:\n\u001b[0;32m    704\u001b[0m     \u001b[39mtry\u001b[39;00m:\n\u001b[1;32m--> 705\u001b[0m         \u001b[39mreturn\u001b[39;00m \u001b[39mself\u001b[39;49m\u001b[39m.\u001b[39;49m_sock\u001b[39m.\u001b[39;49mrecv_into(b)\n\u001b[0;32m    706\u001b[0m     \u001b[39mexcept\u001b[39;00m timeout:\n\u001b[0;32m    707\u001b[0m         \u001b[39mself\u001b[39m\u001b[39m.\u001b[39m_timeout_occurred \u001b[39m=\u001b[39m \u001b[39mTrue\u001b[39;00m\n",
      "\u001b[1;31mKeyboardInterrupt\u001b[0m: "
     ]
    }
   ],
   "source": [
    "# audio captions section\n",
    "audio_transcriber = Audio_transcriber(VIDEOS_DIRECTORY)\n",
    "print(audio_transcriber.transcribe_video_folder(VIDEOS_DIRECTORY))"
   ]
  },
  {
   "cell_type": "code",
   "execution_count": null,
   "metadata": {},
   "outputs": [],
   "source": [
    "# fusion section\n",
    "# steps to achieve:\n",
    "# - combine string per video, do word embeddings with GloVe\n",
    "# - build fusion layer"
   ]
  },
  {
   "cell_type": "code",
   "execution_count": null,
   "metadata": {},
   "outputs": [],
   "source": [
    "# model compilation\n",
    "# steps to achieve:\n",
    "# - implement transformer model to analyse all text\n",
    "# - decide on loss\n",
    "# - decide on optimiser\n",
    "# - compile model"
   ]
  },
  {
   "cell_type": "code",
   "execution_count": null,
   "metadata": {},
   "outputs": [],
   "source": [
    "# training\n",
    "# steps to achieve:\n",
    "# - download all data\n",
    "# - run preprocessing on all of the videos"
   ]
  },
  {
   "cell_type": "code",
   "execution_count": null,
   "metadata": {},
   "outputs": [],
   "source": [
    "# testing"
   ]
  }
 ],
 "metadata": {
  "kernelspec": {
   "display_name": "research-env",
   "language": "python",
   "name": "python3"
  },
  "language_info": {
   "codemirror_mode": {
    "name": "ipython",
    "version": 3
   },
   "file_extension": ".py",
   "mimetype": "text/x-python",
   "name": "python",
   "nbconvert_exporter": "python",
   "pygments_lexer": "ipython3",
   "version": "3.10.12"
  },
  "orig_nbformat": 4
 },
 "nbformat": 4,
 "nbformat_minor": 2
}
